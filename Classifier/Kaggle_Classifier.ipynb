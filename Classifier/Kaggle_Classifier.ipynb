{
 "cells": [
  {
   "cell_type": "code",
   "execution_count": 1,
   "id": "28cf4d0b",
   "metadata": {},
   "outputs": [],
   "source": [
    "import pandas as pd\n",
    "from sklearn.model_selection import train_test_split\n",
    "from sklearn.metrics import accuracy_score\n",
    "from sklearn.preprocessing import StandardScaler\n",
    "from sklearn import svm\n",
    "from sklearn.svm import SVC\n",
    "from sklearn.model_selection import GridSearchCV"
   ]
  },
  {
   "cell_type": "code",
   "execution_count": 6,
   "id": "19924424",
   "metadata": {},
   "outputs": [],
   "source": [
    "# Read data\n",
    "\n",
    "train_data = pd.read_excel('C:\\\\Users\\\\howger\\\\Desktop\\\\kaggle_1\\\\train.xlsx')\n",
    "\n",
    "\n",
    "test_data = pd.read_excel('C:\\\\Users\\\\howger\\\\Desktop\\\\kaggle_1\\\\test.xlsx')\n",
    "A = test_data.iloc[:, 1:15]\n"
   ]
  },
  {
   "cell_type": "code",
   "execution_count": 7,
   "id": "fa1d0ae7",
   "metadata": {},
   "outputs": [
    {
     "name": "stdout",
     "output_type": "stream",
     "text": [
      "Index(['101', '102', '103', '104', '105', '106', '107', '108', '109', '110',\n",
      "       '111', '112', '113', '114'],\n",
      "      dtype='object')\n"
     ]
    }
   ],
   "source": [
    "# 更改特徵欄位名稱\n",
    "\n",
    "y = train_data[\"Underclocking\"]\n",
    "train_data.drop([\"Underclocking\"], axis=\"columns\", inplace=True)\n",
    "\n",
    "# 取得原始的 column name\n",
    "original_columns = train_data.columns.tolist()\n",
    "\n",
    "# 建立新的 column name\n",
    "new_columns = ['{:03d}'.format(i) for i in range(101, 115)]\n",
    "\n",
    "# 重新排列 column name\n",
    "train_data.columns = new_columns\n",
    "A.columns = new_columns\n",
    "\n",
    "# 印出結果\n",
    "print(train_data.columns)\n"
   ]
  },
  {
   "cell_type": "code",
   "execution_count": 9,
   "id": "659668cb",
   "metadata": {},
   "outputs": [
    {
     "name": "stdout",
     "output_type": "stream",
     "text": [
      " 1) 113                            0.160753\n",
      " 2) 106                            0.120281\n",
      " 3) 103                            0.098375\n",
      " 4) 108                            0.088649\n",
      " 5) 102                            0.078659\n",
      " 6) 101                            0.076447\n",
      " 7) 110                            0.073728\n",
      " 8) 104                            0.072351\n",
      " 9) 111                            0.067713\n",
      "10) 105                            0.066108\n",
      "11) 109                            0.065333\n",
      "12) 112                            0.013493\n",
      "13) 107                            0.009617\n",
      "14) 114                            0.008494\n"
     ]
    },
    {
     "data": {
      "text/plain": [
       "Text(0.5, 23.52222222222222, 'Feature')"
      ]
     },
     "execution_count": 9,
     "metadata": {},
     "output_type": "execute_result"
    },
    {
     "data": {
      "image/png": "[encoded data removed]",
      "text/plain": [
       "<Figure size 640x480 with 1 Axes>"
      ]
     },
     "metadata": {},
     "output_type": "display_data"
    }
   ],
   "source": [
    "#　使用隨機森林_評估特徵\n",
    "from  sklearn.ensemble import RandomForestClassifier\n",
    "from sklearn.model_selection import cross_val_score\n",
    "import plotly.express as px\n",
    "import numpy as np\n",
    "import matplotlib.pyplot as plt\n",
    "\n",
    "X = train_data\n",
    "# 選擇特徵範圍，[:14]，代表開頭到第14行是特徵\n",
    "feat_labels = X.columns[:14]\n",
    "tree = RandomForestClassifier(n_estimators=500, random_state=1)\n",
    "tree.fit(X, y)\n",
    "importances = tree.feature_importances_\n",
    "\n",
    "indices = np.argsort(importances)[::-1]\n",
    "\n",
    "for f in range(X.shape[1]):\n",
    "    print(\"%2d) %-*s %f\" % (f + 1, 30, \n",
    "                            feat_labels[indices[f]], \n",
    "                            importances[indices[f]]))\n",
    "\n",
    "plt.bar(range(X.shape[1]), \n",
    "        importances[indices],\n",
    "        align='center',\n",
    "        color = 'blue')\n",
    "\n",
    "plt.xticks(range(X.shape[1]), \n",
    "            feat_labels[indices] )\n",
    "plt.xlim([-1, X.shape[1]])\n",
    "plt.tight_layout()\n",
    "plt.ylabel('Importance')\n",
    "plt.grid(axis='y',linestyle='--')\n",
    "plt.xlabel('Feature')\n"
   ]
  },
  {
   "cell_type": "code",
   "execution_count": 10,
   "id": "d1972dd9",
   "metadata": {},
   "outputs": [],
   "source": [
    "X = train_data\n",
    "X.drop([\"112\"], axis=\"columns\", inplace=True)\n",
    "X.drop([\"114\"], axis=\"columns\", inplace=True)\n",
    "X.drop([\"107\"], axis=\"columns\", inplace=True)\n",
    "\n",
    "\n",
    "A.drop([\"112\"], axis=\"columns\", inplace=True)\n",
    "A.drop([\"114\"], axis=\"columns\", inplace=True)\n",
    "A.drop([\"107\"], axis=\"columns\", inplace=True)"
   ]
  },
  {
   "cell_type": "code",
   "execution_count": 11,
   "id": "abf9918b",
   "metadata": {},
   "outputs": [],
   "source": [
    "# MinMax scaler\n",
    "# train, val, test split\n",
    "from sklearn.preprocessing import MinMaxScaler\n",
    "scalerx = MinMaxScaler()\n",
    "X = scalerx.fit_transform(X) # 將訓練數據 轉換成0-1的矩陣\n",
    "A = scalerx.fit_transform(A) \n",
    "# split 會變成陣列\n",
    "X_temp, X_test, y_temp, y_test = train_test_split(X, y, test_size=0.1, random_state=None)\n",
    "X_train, X_val, y_train, y_val = train_test_split(X_temp, y_temp, test_size=0.1, random_state=None)"
   ]
  },
  {
   "cell_type": "code",
   "execution_count": 12,
   "id": "bc065f52",
   "metadata": {},
   "outputs": [
    {
     "name": "stdout",
     "output_type": "stream",
     "text": [
      "X_train data number: (3160, 11)\n",
      "X_val data number: (352, 11)\n",
      "X_test data number: (391, 11)\n"
     ]
    }
   ],
   "source": [
    "print(\"X_train data number:\",X_train.shape)\n",
    "print(\"X_val data number:\",X_val.shape)\n",
    "print(\"X_test data number:\", X_test.shape)"
   ]
  },
  {
   "cell_type": "code",
   "execution_count": 17,
   "id": "15e2ac2f",
   "metadata": {},
   "outputs": [
    {
     "name": "stdout",
     "output_type": "stream",
     "text": [
      "0.710997442455243\n"
     ]
    }
   ],
   "source": [
    "# ====== Random Forest Classifier ========\n",
    "tree = RandomForestClassifier(n_estimators = 250, max_depth = 64)\n",
    "tree.fit(X_train,y_train)\n",
    "# Create our predictions\n",
    "y_prediction = tree.predict(X_test)\n",
    "y_prediction_train = tree.predict(X_train)\n",
    "# Create confusion matrix\n",
    "from sklearn.metrics import confusion_matrix, f1_score, accuracy_score\n",
    "confusion_matrix(y_test, y_prediction)\n",
    "# Display accuracy score\n",
    "print(accuracy_score(y_test, prediction))\n",
    "\n"
   ]
  },
  {
   "cell_type": "code",
   "execution_count": 14,
   "id": "73160a47",
   "metadata": {},
   "outputs": [
    {
     "data": {
      "image/png": "[encoded data removed]",
      "text/plain": [
       "<Figure size 640x480 with 2 Axes>"
      ]
     },
     "metadata": {},
     "output_type": "display_data"
    }
   ],
   "source": [
    "confusion_matrix = np.array([[458, 44], [129, 150]])\n",
    "\n",
    "labels = ['Positive', 'Negative']\n",
    "tick_labels = ['Positive', 'Negative']\n",
    "\n",
    "plt.imshow(confusion_matrix, cmap='jet')\n",
    "\n",
    "# 添加顏色條\n",
    "plt.colorbar()\n",
    "\n",
    "# 添加刻度標籤\n",
    "plt.xticks(np.arange(len(tick_labels)), tick_labels)\n",
    "plt.yticks(np.arange(len(labels)), labels)\n",
    "\n",
    "# 添加數值標籤\n",
    "for i in range(len(labels)):\n",
    "    for j in range(len(tick_labels)):\n",
    "        plt.text(j, i, confusion_matrix[i, j], ha='center', va='center', color='white')\n",
    "\n",
    "# 設置標題和軸標籤\n",
    "plt.title('Confusion Matrix')\n",
    "plt.xlabel(' True')\n",
    "plt.ylabel('Prediciton')\n",
    "\n",
    "# 顯示圖表\n",
    "plt.show()"
   ]
  },
  {
   "cell_type": "code",
   "execution_count": 23,
   "id": "5ebee9c7",
   "metadata": {},
   "outputs": [
    {
     "name": "stdout",
     "output_type": "stream",
     "text": [
      "=========== Random Forest Classifier =============\n",
      "accuracy test:  0.6956521739130435\n",
      "accuracy train:  1.0\n"
     ]
    }
   ],
   "source": [
    "from sklearn.metrics import mean_squared_error\n",
    "from sklearn.metrics import mean_absolute_error\n",
    "from sklearn.metrics import r2_score\n",
    "# 顯示 預測結果分數\n",
    "print(\"=========== Random Forest Classifier =============\")\n",
    "\n",
    "print(\"accuracy test: \",accuracy_score(y_test, y_prediction))\n",
    "print(\"accuracy train: \",accuracy_score(y_train, y_prediction_train))\n"
   ]
  },
  {
   "cell_type": "code",
   "execution_count": null,
   "id": "22ea0e3e",
   "metadata": {},
   "outputs": [],
   "source": [
    "predicted_ans = tree.predict(A)\n",
    "test_ids = test_data['id']\n",
    "my_submission = pd.DataFrame({'id':test_ids, 'Underclocking':predicted_ans})\n",
    "my_submission.to_csv('submission.csv', index=False)"
   ]
  }
 ],
 "metadata": {
  "kernelspec": {
   "display_name": "Python 3 (ipykernel)",
   "language": "python",
   "name": "python3"
  },
  "language_info": {
   "codemirror_mode": {
    "name": "ipython",
    "version": 3
   },
   "file_extension": ".py",
   "mimetype": "text/x-python",
   "name": "python",
   "nbconvert_exporter": "python",
   "pygments_lexer": "ipython3",
   "version": "3.9.12"
  }
 },
 "nbformat": 4,
 "nbformat_minor": 5
}
